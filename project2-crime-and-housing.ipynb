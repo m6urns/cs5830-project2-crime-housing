{
 "cells": [
  {
   "cell_type": "code",
   "execution_count": 1,
   "metadata": {},
   "outputs": [],
   "source": [
    "import pandas as pd\n",
    "import numpy as np\n",
    "import seaborn as sns\n",
    "import matplotlib.pyplot as plt\n",
    "from scipy import stats\n",
    "from statsmodels.graphics.gofplots import qqplot\n",
    "from matplotlib.patches import Patch"
   ]
  },
  {
   "cell_type": "code",
   "execution_count": 2,
   "metadata": {},
   "outputs": [],
   "source": [
    "# Define some lists we will use later\n",
    "violent_crime = [\n",
    "    'AGG ROBBERY/DEADLY WEAPON',\n",
    "    'ROBBERY BY ASSAULT',\n",
    "    'AGG ASLT W/MOTOR VEH FAM/DAT V',\n",
    "    'AGG ASLT STRANGLE/SUFFOCATE',\n",
    "    'AGG ASSAULT',\n",
    "    'AGG ASLT ENHANC STRANGL/SUFFOC',\n",
    "    'RAPE',\n",
    "    'DEADLY CONDUCT',\n",
    "    'AGG ASSAULT FAM/DATE VIOLENCE',\n",
    "    'AGG RAPE OF A CHILD',\n",
    "    'AGG RAPE',\n",
    "    'ROBBERY BY THREAT',\n",
    "    'AGG ROBBERY BY ASSAULT',\n",
    "    'RAPE OF A CHILD',\n",
    "    'AGG ASSAULT WITH MOTOR VEH',\n",
    "    'MURDER',\n",
    "    'AGG ASSAULT ON PUBLIC SERVANT',\n",
    "    'DEADLY CONDUCT FAM/DATE VIOL',\n",
    "    'MANSLAUGHTER'\n",
    "]"
   ]
  },
  {
   "cell_type": "code",
   "execution_count": 3,
   "metadata": {},
   "outputs": [],
   "source": [
    "# Import datasets\n",
    "austin_crime = pd.read_csv('data/crime-housing-austin-2015.csv')\n",
    "austin_weather = pd.read_csv('data/austin_weather.csv')\n",
    "population_data = pd.read_csv('data/AustinZipCodes.csv')\n",
    "\n",
    "percentage_columns = [\n",
    "    'Populationbelowpovertylevel', 'Non-WhiteNon-HispanicorLatino', \n",
    "    'HispanicorLatinoofanyrace', 'Populationwithdisability', 'Unemployment',\n",
    "    'Largehouseholds(5+members)', 'Homesaffordabletopeopleearninglessthan$50000',\n",
    "    'Rentalsaffordabletopeopleearninglessthan$25000', 'Rent-restrictedunits',\n",
    "    'HousingChoiceVoucherholders', 'Percentageofrentalunitsinpoorcondition',\n",
    "    'Percentchangeinnumberofhousingunits2000-2012',\n",
    "    'Changeinpercentageofpopulationbelowpoverty2000-2012',\n",
    "    'Changeinmedianrent2000-2012', 'Changeinmedianhomevalue2000-2012',\n",
    "    'Percentageofhomeswithin1/4-mioftransitstop',\n",
    "    'Percentageofhousingandtransportationcoststhatistransportation-related'\n",
    "]\n",
    "\n",
    "currency_columns = ['Medianhouseholdincome', 'Medianrent', 'Medianhomevalue', 'Averagemonthlytransportationcost']\n",
    "\n",
    "# Setup some functions to convert percentages and currency to floats\n",
    "def percentage_to_float(value):\n",
    "    try:\n",
    "        return float(value.strip('%')) / 100\n",
    "    except:\n",
    "        return value\n",
    "\n",
    "def currency_to_float(value):\n",
    "    try:\n",
    "        return float(value.replace('$', '').replace(',', ''))\n",
    "    except:\n",
    "        return value\n",
    "    \n",
    "# Process data for analysis\n",
    "for col in percentage_columns:\n",
    "    austin_crime[col] = austin_crime[col].apply(percentage_to_float)\n",
    "\n",
    "for col in currency_columns:\n",
    "    austin_crime[col] = austin_crime[col].apply(currency_to_float)"
   ]
  },
  {
   "cell_type": "code",
   "execution_count": 4,
   "metadata": {},
   "outputs": [
    {
     "name": "stderr",
     "output_type": "stream",
     "text": [
      "/tmp/ipykernel_1194494/2058581474.py:6: UserWarning: Could not infer format, so each element will be parsed individually, falling back to `dateutil`. To ensure parsing is consistent and as-expected, please specify a format.\n",
      "  austin_crime['Report_Date'] = pd.to_datetime(austin_crime['Report_Date'])\n"
     ]
    }
   ],
   "source": [
    "# Merge crime and weather data, get a daily high and low temperature for each crime\n",
    "high_low_temp = austin_weather.groupby('Date').agg({'TempHighF': 'max', 'TempLowF': 'min'}).reset_index()\n",
    "\n",
    "# Convert the date to a datetime object, for high_low_temp and austin_crime\n",
    "high_low_temp['Date'] = pd.to_datetime(high_low_temp['Date'])\n",
    "austin_crime['Report_Date'] = pd.to_datetime(austin_crime['Report_Date'])\n",
    "\n",
    "# Merge the two dataframes\n",
    "austin_crime = austin_crime.merge(high_low_temp, left_on='Report_Date', right_on='Date')"
   ]
  }
 ],
 "metadata": {
  "kernelspec": {
   "display_name": "Python 3",
   "language": "python",
   "name": "python3"
  },
  "language_info": {
   "codemirror_mode": {
    "name": "ipython",
    "version": 3
   },
   "file_extension": ".py",
   "mimetype": "text/x-python",
   "name": "python",
   "nbconvert_exporter": "python",
   "pygments_lexer": "ipython3",
   "version": "3.11.9"
  }
 },
 "nbformat": 4,
 "nbformat_minor": 2
}
